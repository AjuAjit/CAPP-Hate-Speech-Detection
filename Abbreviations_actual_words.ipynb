{
 "cells": [
  {
   "cell_type": "markdown",
   "metadata": {},
   "source": [
    "### Importing packages"
   ]
  },
  {
   "cell_type": "code",
   "execution_count": 3,
   "metadata": {},
   "outputs": [],
   "source": [
    "import pandas as pd\n",
    "import numpy as np"
   ]
  },
  {
   "cell_type": "markdown",
   "metadata": {},
   "source": [
    "### Extracting all abbreviations + expansions from netlingo"
   ]
  },
  {
   "cell_type": "code",
   "execution_count": 67,
   "metadata": {},
   "outputs": [],
   "source": [
    "from bs4 import BeautifulSoup\n",
    "import requests, json\n",
    "resp = requests.get(\"http://www.netlingo.com/acronyms.php\")\n",
    "soup = BeautifulSoup(resp.text, \"html.parser\")\n",
    "slangdict= {}\n",
    "key=\"\"\n",
    "value=\"\"\n",
    "for div in soup.findAll('div', attrs={'class':'list_box3'}):\n",
    "    for li in div.findAll('li'):\n",
    "        for a in li.findAll('a'):\n",
    "            key =a.text\n",
    "            value = li.text.split(key)[1]\n",
    "            slangdict[key]=value\n",
    "\n",
    "slangdict            \n",
    "\n",
    "slangdict['pls'] = 'please'\n",
    "slangdict['DM'] = 'Direct Message'\n",
    "\n",
    "\n",
    "#with open('myslang.json', 'w') as f:\n",
    "#    json.dump(slangdict, f, indent=2)"
   ]
  },
  {
   "cell_type": "markdown",
   "metadata": {},
   "source": [
    "### Reading data"
   ]
  },
  {
   "cell_type": "code",
   "execution_count": 4,
   "metadata": {},
   "outputs": [
    {
     "data": {
      "text/html": [
       "<div>\n",
       "<style scoped>\n",
       "    .dataframe tbody tr th:only-of-type {\n",
       "        vertical-align: middle;\n",
       "    }\n",
       "\n",
       "    .dataframe tbody tr th {\n",
       "        vertical-align: top;\n",
       "    }\n",
       "\n",
       "    .dataframe thead th {\n",
       "        text-align: right;\n",
       "    }\n",
       "</style>\n",
       "<table border=\"1\" class=\"dataframe\">\n",
       "  <thead>\n",
       "    <tr style=\"text-align: right;\">\n",
       "      <th></th>\n",
       "      <th>Unnamed: 0</th>\n",
       "      <th>tweet_id</th>\n",
       "      <th>tweet_content</th>\n",
       "    </tr>\n",
       "  </thead>\n",
       "  <tbody>\n",
       "    <tr>\n",
       "      <th>1089</th>\n",
       "      <td>1089</td>\n",
       "      <td>1.320000e+18</td>\n",
       "      <td>@swaethony i made it 🙈</td>\n",
       "    </tr>\n",
       "    <tr>\n",
       "      <th>3355</th>\n",
       "      <td>3355</td>\n",
       "      <td>1.320000e+18</td>\n",
       "      <td>Again, we have to make lives unbearable for ev...</td>\n",
       "    </tr>\n",
       "    <tr>\n",
       "      <th>2412</th>\n",
       "      <td>2412</td>\n",
       "      <td>1.320000e+18</td>\n",
       "      <td>A Michigan appeals court has ruled that absent...</td>\n",
       "    </tr>\n",
       "    <tr>\n",
       "      <th>3781</th>\n",
       "      <td>3781</td>\n",
       "      <td>1.320000e+18</td>\n",
       "      <td>Going to stream the game from my phone, see yo...</td>\n",
       "    </tr>\n",
       "    <tr>\n",
       "      <th>1130</th>\n",
       "      <td>1130</td>\n",
       "      <td>1.320000e+18</td>\n",
       "      <td>This morning we had a RECORD 140,000 knot at @...</td>\n",
       "    </tr>\n",
       "  </tbody>\n",
       "</table>\n",
       "</div>"
      ],
      "text/plain": [
       "      Unnamed: 0      tweet_id  \\\n",
       "1089        1089  1.320000e+18   \n",
       "3355        3355  1.320000e+18   \n",
       "2412        2412  1.320000e+18   \n",
       "3781        3781  1.320000e+18   \n",
       "1130        1130  1.320000e+18   \n",
       "\n",
       "                                          tweet_content  \n",
       "1089                             @swaethony i made it 🙈  \n",
       "3355  Again, we have to make lives unbearable for ev...  \n",
       "2412  A Michigan appeals court has ruled that absent...  \n",
       "3781  Going to stream the game from my phone, see yo...  \n",
       "1130  This morning we had a RECORD 140,000 knot at @...  "
      ]
     },
     "execution_count": 4,
     "metadata": {},
     "output_type": "execute_result"
    }
   ],
   "source": [
    "data = pd.read_csv(\"D:\\\\Praxis\\\\Capstone\\\\data\\\\data_for_labeling.csv\")\n",
    "data.sample(5)"
   ]
  },
  {
   "cell_type": "markdown",
   "metadata": {},
   "source": [
    "### Taking a sample to test if code works"
   ]
  },
  {
   "cell_type": "code",
   "execution_count": 71,
   "metadata": {},
   "outputs": [],
   "source": [
    "df = data.sample(5)"
   ]
  },
  {
   "cell_type": "code",
   "execution_count": 72,
   "metadata": {},
   "outputs": [
    {
     "name": "stdout",
     "output_type": "stream",
     "text": [
      "I was fuckin banned for saying kneegro. Bitch ass app really banned my black ass for saying kneegro. I’m back now tho u cuck bitch ass niggas. Fucka Twitter. Someone can literally have their whole ass spread open on the TL but kneegro?! Over the line\n",
      "Azerbaijanis living in #London honored the victims of Ganja attack by putting flowers in front of the Embassy of #Azerbaijan in the #UK. Toys and teddies have been put as well in the memory of kids killed as a result of Armenia's STUD missile attack on Ganja city. https://t.co/ydPlb3vS2y\n",
      "\"The safety of all involved can easily be achieved without canceling a chance for voters to see both candidates go head to head,\" Trump campaign manager Bill Stepien, who has also tested positive for coronavirus, says of CPD to hold virtual debate.\n",
      "We're increasing our 2020 Ad Grants commitment to offer a total of $1B to support nonprofits that are tackling pressing issues, from COVID-19 response &amp; recovery to fighting poverty and injustice around the world. https://t.co/ukvKAsOICQ\n",
      "An ambitious operation is underway!\n",
      "With Operation Flying Rhino, 114 white rhinos and 10 black rhinos are being translocated to a new safe home in a secret location. Watch Rhino Week today at 6 PM, only on Animal Planet.\n",
      "#Rhinoweek https://t.co/DiVv5JwXuy\n"
     ]
    }
   ],
   "source": [
    "df = data.sample(5)\n",
    "for index, row in df.iterrows():\n",
    "    print(row['tweet_content'])\n",
    "    #for word in (row['tweet_content']):"
   ]
  },
  {
   "cell_type": "markdown",
   "metadata": {},
   "source": [
    "### Taking a copy"
   ]
  },
  {
   "cell_type": "code",
   "execution_count": 77,
   "metadata": {},
   "outputs": [],
   "source": [
    "import copy\n",
    "df1 = df.copy()"
   ]
  },
  {
   "cell_type": "markdown",
   "metadata": {},
   "source": [
    "### Changing all abbreviations in our dataframe"
   ]
  },
  {
   "cell_type": "code",
   "execution_count": 78,
   "metadata": {},
   "outputs": [
    {
     "name": "stdout",
     "output_type": "stream",
     "text": [
      "['I', 'was', 'fuckin', 'banned', 'for', 'saying', 'kneegro.', 'Bitch', 'ass', 'app', 'really', 'banned', 'my', 'black', 'ass', 'for', 'saying', 'kneegro.', 'I’m', 'back', 'now', 'tho', 'u', 'cuck', 'bitch', 'ass', 'niggas.', 'Fucka', 'Twitter.', 'Someone', 'can', 'literally', 'have', 'their', 'whole', 'ass', 'spread', 'open', 'on', 'the', 'TL', 'but', 'kneegro?!', 'Over', 'the', 'line']\n",
      "['Azerbaijanis', 'living', 'in', '#London', 'honored', 'the', 'victims', 'of', 'Ganja', 'attack', 'by', 'putting', 'flowers', 'in', 'front', 'of', 'the', 'Embassy', 'of', '#Azerbaijan', 'in', 'the', '#UK.', 'Toys', 'and', 'teddies', 'have', 'been', 'put', 'as', 'well', 'in', 'the', 'memory', 'of', 'kids', 'killed', 'as', 'a', 'result', 'of', \"Armenia's\", 'STUD', 'missile', 'attack', 'on', 'Ganja', 'city.', 'https://t.co/ydPlb3vS2y']\n",
      "['\"The', 'safety', 'of', 'all', 'involved', 'can', 'easily', 'be', 'achieved', 'without', 'canceling', 'a', 'chance', 'for', 'voters', 'to', 'see', 'both', 'candidates', 'go', 'head', 'to', 'head,\"', 'Trump', 'campaign', 'manager', 'Bill', 'Stepien,', 'who', 'has', 'also', 'tested', 'positive', 'for', 'coronavirus,', 'says', 'of', 'CPD', 'to', 'hold', 'virtual', 'debate.']\n",
      "[\"We're\", 'increasing', 'our', '2020', 'Ad', 'Grants', 'commitment', 'to', 'offer', 'a', 'total', 'of', '$1B', 'to', 'support', 'nonprofits', 'that', 'are', 'tackling', 'pressing', 'issues,', 'from', 'COVID-19', 'response', '&amp;', 'recovery', 'to', 'fighting', 'poverty', 'and', 'injustice', 'around', 'the', 'world.', 'https://t.co/ukvKAsOICQ']\n",
      "['An', 'ambitious', 'operation', 'is', 'underway!', 'With', 'Operation', 'Flying', 'Rhino,', '114', 'white', 'rhinos', 'and', '10', 'black', 'rhinos', 'are', 'being', 'translocated', 'to', 'a', 'new', 'safe', 'home', 'in', 'a', 'secret', 'location.', 'Watch', 'Rhino', 'Week', 'today', 'at', '6', 'PM,', 'only', 'on', 'Animal', 'Planet.', '#Rhinoweek', 'https://t.co/DiVv5JwXuy']\n"
     ]
    },
    {
     "data": {
      "text/html": [
       "<div>\n",
       "<style scoped>\n",
       "    .dataframe tbody tr th:only-of-type {\n",
       "        vertical-align: middle;\n",
       "    }\n",
       "\n",
       "    .dataframe tbody tr th {\n",
       "        vertical-align: top;\n",
       "    }\n",
       "\n",
       "    .dataframe thead th {\n",
       "        text-align: right;\n",
       "    }\n",
       "</style>\n",
       "<table border=\"1\" class=\"dataframe\">\n",
       "  <thead>\n",
       "    <tr style=\"text-align: right;\">\n",
       "      <th></th>\n",
       "      <th>Unnamed: 0</th>\n",
       "      <th>tweet_id</th>\n",
       "      <th>tweet_content</th>\n",
       "    </tr>\n",
       "  </thead>\n",
       "  <tbody>\n",
       "    <tr>\n",
       "      <th>2374</th>\n",
       "      <td>2374</td>\n",
       "      <td>1.310000e+18</td>\n",
       "      <td>I was fuckin banned for saying kneegro. Bitch ...</td>\n",
       "    </tr>\n",
       "    <tr>\n",
       "      <th>201</th>\n",
       "      <td>201</td>\n",
       "      <td>1.320000e+18</td>\n",
       "      <td>Azerbaijanis living in #London honored the vic...</td>\n",
       "    </tr>\n",
       "    <tr>\n",
       "      <th>2250</th>\n",
       "      <td>2250</td>\n",
       "      <td>1.310000e+18</td>\n",
       "      <td>\"The safety of all involved can easily be achi...</td>\n",
       "    </tr>\n",
       "    <tr>\n",
       "      <th>3192</th>\n",
       "      <td>3192</td>\n",
       "      <td>1.270000e+18</td>\n",
       "      <td>We're increasing our 2020 Ad Grants commitment...</td>\n",
       "    </tr>\n",
       "    <tr>\n",
       "      <th>168</th>\n",
       "      <td>168</td>\n",
       "      <td>1.310000e+18</td>\n",
       "      <td>An ambitious operation is underway! With Opera...</td>\n",
       "    </tr>\n",
       "  </tbody>\n",
       "</table>\n",
       "</div>"
      ],
      "text/plain": [
       "      Unnamed: 0      tweet_id  \\\n",
       "2374        2374  1.310000e+18   \n",
       "201          201  1.320000e+18   \n",
       "2250        2250  1.310000e+18   \n",
       "3192        3192  1.270000e+18   \n",
       "168          168  1.310000e+18   \n",
       "\n",
       "                                          tweet_content  \n",
       "2374  I was fuckin banned for saying kneegro. Bitch ...  \n",
       "201   Azerbaijanis living in #London honored the vic...  \n",
       "2250  \"The safety of all involved can easily be achi...  \n",
       "3192  We're increasing our 2020 Ad Grants commitment...  \n",
       "168   An ambitious operation is underway! With Opera...  "
      ]
     },
     "execution_count": 78,
     "metadata": {},
     "output_type": "execute_result"
    }
   ],
   "source": [
    "for index, row in df1.iterrows():\n",
    "    word_list = []\n",
    "    word_list = row['tweet_content'].split()\n",
    "    print(word_list)\n",
    "    for i in range(0,len(word_list)):\n",
    "        if word_list[i] in slangdict.keys():\n",
    "            word_list[i] = slangdict[word_list[i]]\n",
    "    \n",
    "    separator = ' '\n",
    "    separator = (separator.join(word_list))\n",
    "    df1.loc[index ,\"tweet_content\"] = separator\n",
    "    \n",
    "df1    \n",
    "    #for word in (row['tweet_content']):"
   ]
  }
 ],
 "metadata": {
  "kernelspec": {
   "display_name": "Python 3",
   "language": "python",
   "name": "python3"
  },
  "language_info": {
   "codemirror_mode": {
    "name": "ipython",
    "version": 3
   },
   "file_extension": ".py",
   "mimetype": "text/x-python",
   "name": "python",
   "nbconvert_exporter": "python",
   "pygments_lexer": "ipython3",
   "version": "3.8.3"
  }
 },
 "nbformat": 4,
 "nbformat_minor": 4
}
